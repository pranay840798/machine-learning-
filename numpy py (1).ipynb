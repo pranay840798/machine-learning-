{
 "cells": [
  {
   "cell_type": "code",
   "execution_count": 1,
   "id": "825d69e1",
   "metadata": {},
   "outputs": [
    {
     "name": "stdout",
     "output_type": "stream",
     "text": [
      "<class 'numpy.ndarray'>\n"
     ]
    }
   ],
   "source": [
    "import numpy as np\n",
    "an_array=np.array([3,33,333])  \n",
    "print(type(an_array))"
   ]
  },
  {
   "cell_type": "code",
   "execution_count": 2,
   "id": "dcdb2ea4",
   "metadata": {},
   "outputs": [
    {
     "data": {
      "text/plain": [
       "(2, 3)"
      ]
     },
     "execution_count": 2,
     "metadata": {},
     "output_type": "execute_result"
    }
   ],
   "source": [
    "an_array2=np.array([[3,33,333],[4,44,444]])\n",
    "an_array2.shape"
   ]
  },
  {
   "cell_type": "code",
   "execution_count": 3,
   "id": "3e73bc2b",
   "metadata": {},
   "outputs": [
    {
     "name": "stdout",
     "output_type": "stream",
     "text": [
      "3 33 333\n"
     ]
    }
   ],
   "source": [
    "print(an_array[0],an_array[1],an_array[2])"
   ]
  },
  {
   "cell_type": "code",
   "execution_count": 4,
   "id": "3f4f225f",
   "metadata": {},
   "outputs": [
    {
     "name": "stdout",
     "output_type": "stream",
     "text": [
      "(3,)\n"
     ]
    }
   ],
   "source": [
    "# test the shape of the array we just created, it should have just one dimension \n",
    "print(an_array.shape)"
   ]
  },
  {
   "cell_type": "code",
   "execution_count": 5,
   "id": "141fadc1",
   "metadata": {},
   "outputs": [
    {
     "name": "stdout",
     "output_type": "stream",
     "text": [
      "[888  33 333]\n"
     ]
    }
   ],
   "source": [
    "an_array[0]=888\n",
    "print(an_array)"
   ]
  },
  {
   "cell_type": "markdown",
   "id": "10dc4c8e",
   "metadata": {},
   "source": [
    "# How to create a rank 2 numpy array:\n"
   ]
  },
  {
   "cell_type": "code",
   "execution_count": 6,
   "id": "5c51abe8",
   "metadata": {},
   "outputs": [
    {
     "name": "stdout",
     "output_type": "stream",
     "text": [
      "[[11 12 13]\n",
      " [21 22 33]]\n",
      "the shape is 2 row,3 columns: (2, 3)\n",
      "accessing element [0,0],[0,1],and [1,0] of the ndarray: 11 , 12 , 21\n"
     ]
    }
   ],
   "source": [
    "another=np.array([[11,12,13],[21,22,33]])\n",
    "print(another)\n",
    "print(\"the shape is 2 row,3 columns:\",another.shape)\n",
    "print(\"accessing element [0,0],[0,1],and [1,0] of the ndarray:\",another[0,0],\",\",another[0,1],\",\",another[1,0])"
   ]
  },
  {
   "cell_type": "markdown",
   "id": "f1c0ee72",
   "metadata": {},
   "source": [
    "# there are many way to create numpy arrays:"
   ]
  },
  {
   "cell_type": "code",
   "execution_count": 7,
   "id": "f4028f51",
   "metadata": {},
   "outputs": [
    {
     "name": "stdout",
     "output_type": "stream",
     "text": [
      "[[0. 0.]\n",
      " [0. 0.]]\n"
     ]
    }
   ],
   "source": [
    "import numpy as np\n",
    "# create a 2x2 array of zero\n",
    "ex1=np.zeros((2,2))\n",
    "print(ex1)"
   ]
  },
  {
   "cell_type": "code",
   "execution_count": 8,
   "id": "5b19e066",
   "metadata": {},
   "outputs": [
    {
     "name": "stdout",
     "output_type": "stream",
     "text": [
      "[[9. 9. 9.]\n",
      " [9. 9. 9.]\n",
      " [9. 9. 9.]]\n"
     ]
    }
   ],
   "source": [
    "# create a 2x2 array filled with 9.0\n",
    "ex2=np.full((3,3),9.0)\n",
    "print(ex2)"
   ]
  },
  {
   "cell_type": "code",
   "execution_count": 9,
   "id": "9c185c4a",
   "metadata": {},
   "outputs": [
    {
     "name": "stdout",
     "output_type": "stream",
     "text": [
      "[[1. 0. 0. 0. 0.]\n",
      " [0. 1. 0. 0. 0.]\n",
      " [0. 0. 1. 0. 0.]\n",
      " [0. 0. 0. 1. 0.]\n",
      " [0. 0. 0. 0. 1.]]\n"
     ]
    }
   ],
   "source": [
    "# create a 2x2 matrix with the diagonal is and the others 0\n",
    "ex3=np.eye(5,5)\n",
    "print(ex3 )"
   ]
  },
  {
   "cell_type": "code",
   "execution_count": 10,
   "id": "d0628a64",
   "metadata": {},
   "outputs": [
    {
     "name": "stdout",
     "output_type": "stream",
     "text": [
      "[[1. 1.]\n",
      " [1. 1.]]\n"
     ]
    }
   ],
   "source": [
    "# create an array of ones\n",
    "ex4=np.ones((2,2))\n",
    "print(ex4)"
   ]
  },
  {
   "cell_type": "code",
   "execution_count": 11,
   "id": "f64ab58a",
   "metadata": {},
   "outputs": [
    {
     "name": "stdout",
     "output_type": "stream",
     "text": [
      "(2, 2)\n",
      "\n",
      "1.0\n"
     ]
    }
   ],
   "source": [
    "# notice thet the above ndarray (ex4) is actually rank 2, it is a 2x1\n",
    "print(ex4.shape)\n",
    "\n",
    "# which means we need*to use indexes to access an element\n",
    "print()\n",
    "print(ex4[0,0])"
   ]
  },
  {
   "cell_type": "code",
   "execution_count": 12,
   "id": "eb54f22e",
   "metadata": {},
   "outputs": [
    {
     "name": "stdout",
     "output_type": "stream",
     "text": [
      "[[0.22897538 0.79657082]\n",
      " [0.81878976 0.93688076]]\n"
     ]
    }
   ],
   "source": [
    "# create an array of random floats between 0 and 1\n",
    "ex5=np.random.random((2,2))\n",
    "print(ex5)"
   ]
  },
  {
   "cell_type": "markdown",
   "id": "bddbeea5",
   "metadata": {},
   "source": [
    "# Array Indexing"
   ]
  },
  {
   "cell_type": "code",
   "execution_count": 13,
   "id": "b69de8c5",
   "metadata": {},
   "outputs": [
    {
     "name": "stdout",
     "output_type": "stream",
     "text": [
      "[[11 12 13 14]\n",
      " [21 22 23 24]\n",
      " [31 32 33 34]]\n"
     ]
    }
   ],
   "source": [
    "import numpy as np\n",
    "# rank 2 array of shape (3,4)\n",
    "an_array=np.array([[11,12,13,14],[21,22,23,24],[31,32,33,34]])\n",
    "print(an_array)"
   ]
  },
  {
   "cell_type": "code",
   "execution_count": 14,
   "id": "8f4ae109",
   "metadata": {},
   "outputs": [
    {
     "name": "stdout",
     "output_type": "stream",
     "text": [
      "[[12 13]\n",
      " [22 23]]\n"
     ]
    }
   ],
   "source": [
    "a_slice=an_array[0:2,1:3]\n",
    "#select 0 and 1 rows, 1 and 2 column\n",
    "print(a_slice)"
   ]
  },
  {
   "cell_type": "code",
   "execution_count": 15,
   "id": "0005d4ef",
   "metadata": {},
   "outputs": [
    {
     "name": "stdout",
     "output_type": "stream",
     "text": [
      "before: 12\n",
      "after: 1000\n",
      "[[  11 1000   13   14]\n",
      " [  21   22   23   24]\n",
      " [  31   32   33   34]]\n"
     ]
    }
   ],
   "source": [
    "print(\"before:\", an_array[0,1])  # inspect the element at 0,\n",
    "a_slice[0,0]=1000 # a_slice [0,0] is the same piece of data as an_array[0,1]\n",
    "print(\"after:\", an_array[0,1])\n",
    "print(an_array)"
   ]
  },
  {
   "cell_type": "markdown",
   "id": "efbb66cc",
   "metadata": {},
   "source": [
    "#  Use both integer indexing& slice indexing"
   ]
  },
  {
   "cell_type": "code",
   "execution_count": 16,
   "id": "eadf3401",
   "metadata": {},
   "outputs": [
    {
     "name": "stdout",
     "output_type": "stream",
     "text": [
      "[[11 12 13 14]\n",
      " [21 22 23 24]\n",
      " [31 32 33 34]]\n"
     ]
    }
   ],
   "source": [
    "# create a rank 2 array of shape(3,4)\n",
    "an_array=np.array([[11,12,13,14],[21,22,23,24],[31,32,33,34]])\n",
    "print(an_array)"
   ]
  },
  {
   "cell_type": "code",
   "execution_count": 17,
   "id": "48505fac",
   "metadata": {},
   "outputs": [
    {
     "name": "stdout",
     "output_type": "stream",
     "text": [
      "[21 22 23 24] (4,)\n"
     ]
    }
   ],
   "source": [
    "# using both integer indexing & slicing generate an array of lower rank \n",
    "row_rank1=an_array[1,:] # rank 1 view\n",
    "print(row_rank1,row_rank1.shape) # notice only a single []\n",
    "\n"
   ]
  },
  {
   "cell_type": "code",
   "execution_count": 18,
   "id": "9d954357",
   "metadata": {},
   "outputs": [
    {
     "name": "stdout",
     "output_type": "stream",
     "text": [
      "[[21 22 23 24]] (1, 4)\n"
     ]
    }
   ],
   "source": [
    "# slicing alone: generates an array of the same rank as the an_array\n",
    "row_rank2 = an_array[1:2,:]  # rank3 view\n",
    "print(row_rank2,row_rank2.shape)  # notice the [[]]"
   ]
  },
  {
   "cell_type": "code",
   "execution_count": 19,
   "id": "3a32c486",
   "metadata": {},
   "outputs": [
    {
     "name": "stdout",
     "output_type": "stream",
     "text": [
      "\n",
      "[12 22 32] (3,)\n",
      "\n",
      "[[12]\n",
      " [22]\n",
      " [32]] (3, 1)\n"
     ]
    }
   ],
   "source": [
    "# we can do the same thing for columns of an array :\n",
    "print()\n",
    "col_rank1=an_array[:,1]\n",
    "col_rank2=an_array[ :,1:2]\n",
    "print(col_rank1,col_rank1.shape) # rank1\n",
    "print()\n",
    "print(col_rank2,col_rank2.shape) # rank2"
   ]
  },
  {
   "cell_type": "markdown",
   "id": "de32a9e5",
   "metadata": {},
   "source": [
    "# Array Indexing for changing element:"
   ]
  },
  {
   "cell_type": "code",
   "execution_count": 20,
   "id": "c1996d47",
   "metadata": {},
   "outputs": [
    {
     "name": "stdout",
     "output_type": "stream",
     "text": [
      "original array\n",
      "[[11 12 13]\n",
      " [21 22 33]\n",
      " [31 32 33]\n",
      " [41 42 43]]\n"
     ]
    }
   ],
   "source": [
    "# create a new array\n",
    "an_array=np.array([[11,12,13],[21,22,33],[31,32,33],[41,42,43]])\n",
    "print('original array')\n",
    "print(an_array)"
   ]
  },
  {
   "cell_type": "code",
   "execution_count": 21,
   "id": "dd80d9c3",
   "metadata": {},
   "outputs": [
    {
     "name": "stdout",
     "output_type": "stream",
     "text": [
      "\n",
      "col indices picked : [0 1 2 0]\n",
      "\n",
      "rows indices picked: [0 1 2 3]\n"
     ]
    }
   ],
   "source": [
    "# create an array of indices\n",
    "col_indices=np.array([0,1,2,0])\n",
    "print('\\ncol indices picked :', col_indices)\n",
    "row_indices=np.arange(4) # arange will select 0,1,2,3\n",
    "print('\\nrows indices picked:',row_indices)"
   ]
  },
  {
   "cell_type": "code",
   "execution_count": 22,
   "id": "6a38851f",
   "metadata": {},
   "outputs": [
    {
     "name": "stdout",
     "output_type": "stream",
     "text": [
      "0 , 0\n",
      "1 , 1\n",
      "2 , 2\n",
      "3 , 0\n"
     ]
    },
    {
     "data": {
      "text/plain": [
       "'for i in row_indices:\\n    for j in col_indices:'"
      ]
     },
     "execution_count": 22,
     "metadata": {},
     "output_type": "execute_result"
    }
   ],
   "source": [
    "# examine the pairing of row_indices and col_indices. these are the element we'll\n",
    "for i ,j in zip(row_indices,col_indices):\n",
    "    print(i,\",\",j)\n",
    "'''for i in row_indices:\n",
    "    for j in col_indices:'''"
   ]
  },
  {
   "cell_type": "code",
   "execution_count": 23,
   "id": "623cf384",
   "metadata": {},
   "outputs": [
    {
     "name": "stdout",
     "output_type": "stream",
     "text": [
      "values in the array at those indices: [11 22 33 41]\n"
     ]
    }
   ],
   "source": [
    "# select one element from each row \n",
    "print('values in the array at those indices:',an_array[row_indices,col_indices])\n",
    "# an_array [0,0], an_array[1,1],an_array[2,2],an_array[3,3]=an_array[row_indices]"
   ]
  },
  {
   "cell_type": "code",
   "execution_count": 24,
   "id": "78766211",
   "metadata": {},
   "outputs": [
    {
     "name": "stdout",
     "output_type": "stream",
     "text": [
      "\n",
      "changed array:\n",
      "[[100011     12     13]\n",
      " [    21 100022     33]\n",
      " [    31     32 100033]\n",
      " [100041     42     43]]\n"
     ]
    }
   ],
   "source": [
    "# change one element from each row using the indices selected \n",
    "an_array[row_indices,col_indices]+=100000 # a=a+10 is same as a+=10\n",
    "\n",
    "print('\\nchanged array:')\n",
    "print(an_array)"
   ]
  },
  {
   "cell_type": "markdown",
   "id": "7139d3a1",
   "metadata": {},
   "source": [
    "# Boolean Indexing"
   ]
  },
  {
   "cell_type": "markdown",
   "id": "5c1d2522",
   "metadata": {},
   "source": [
    "#  Array Indexing for changing element:"
   ]
  },
  {
   "cell_type": "code",
   "execution_count": 25,
   "id": "149affdb",
   "metadata": {},
   "outputs": [
    {
     "name": "stdout",
     "output_type": "stream",
     "text": [
      "[[11 12]\n",
      " [21 22]\n",
      " [31 32]]\n"
     ]
    }
   ],
   "source": [
    "# create a 3x2 array\n",
    "an_array =np.array ([[11,12],[21,22],[31,32]])\n",
    "print(an_array)"
   ]
  },
  {
   "cell_type": "code",
   "execution_count": 26,
   "id": "5c9ad9b7",
   "metadata": {},
   "outputs": [
    {
     "data": {
      "text/plain": [
       "array([[False, False],\n",
       "       [ True,  True],\n",
       "       [ True,  True]])"
      ]
     },
     "execution_count": 26,
     "metadata": {},
     "output_type": "execute_result"
    }
   ],
   "source": [
    "# create a filter which will be boolean values for whether each element meets this \n",
    "filter= (an_array>15)\n",
    "filter"
   ]
  },
  {
   "cell_type": "code",
   "execution_count": 27,
   "id": "dbb33f63",
   "metadata": {},
   "outputs": [
    {
     "name": "stdout",
     "output_type": "stream",
     "text": [
      "[21 22 31 32]\n"
     ]
    }
   ],
   "source": [
    "# w can now slelcted just those element whoch meet that criteria\n",
    "print(an_array[filter]) # values that are greater than 15.\n"
   ]
  },
  {
   "cell_type": "code",
   "execution_count": 28,
   "id": "acef66ef",
   "metadata": {},
   "outputs": [
    {
     "data": {
      "text/plain": [
       "array([21, 22, 31, 32])"
      ]
     },
     "execution_count": 28,
     "metadata": {},
     "output_type": "execute_result"
    }
   ],
   "source": [
    "# for short, we could have just used the approach below without the need for the sep\n",
    "an_array[an_array>15]"
   ]
  },
  {
   "cell_type": "code",
   "execution_count": 29,
   "id": "cb36bc1e",
   "metadata": {},
   "outputs": [
    {
     "name": "stdout",
     "output_type": "stream",
     "text": [
      "[[ 11 112]\n",
      " [ 21 122]\n",
      " [ 31 132]]\n"
     ]
    }
   ],
   "source": [
    "an_array[an_array%2==0] +=100 # a+=100 is same as a=a+100\n",
    "print(an_array)"
   ]
  },
  {
   "cell_type": "markdown",
   "id": "78cbe8fc",
   "metadata": {},
   "source": [
    "# Datatypes and Array Operations"
   ]
  },
  {
   "cell_type": "markdown",
   "id": "1a83c104",
   "metadata": {},
   "source": [
    "# Datatypes:"
   ]
  },
  {
   "cell_type": "code",
   "execution_count": 30,
   "id": "3c99105c",
   "metadata": {},
   "outputs": [
    {
     "name": "stdout",
     "output_type": "stream",
     "text": [
      "int32\n"
     ]
    }
   ],
   "source": [
    "ex1=np.array([11,12]) # python the data type\n",
    "print(ex1.dtype)"
   ]
  },
  {
   "cell_type": "code",
   "execution_count": 31,
   "id": "bb3a747f",
   "metadata": {},
   "outputs": [
    {
     "name": "stdout",
     "output_type": "stream",
     "text": [
      "float64\n"
     ]
    }
   ],
   "source": [
    "ex2=np.array([11.0,12.0])  # python asign the data type\n",
    "print(ex2.dtype)"
   ]
  },
  {
   "cell_type": "code",
   "execution_count": 32,
   "id": "bc6cc0d7",
   "metadata": {},
   "outputs": [
    {
     "name": "stdout",
     "output_type": "stream",
     "text": [
      "int64\n"
     ]
    }
   ],
   "source": [
    "ex3=np.array([11,21],dtype=np.int64)  # you can also tell python the data type\n",
    "print(ex3.dtype)"
   ]
  },
  {
   "cell_type": "code",
   "execution_count": 33,
   "id": "a09a958c",
   "metadata": {},
   "outputs": [
    {
     "name": "stdout",
     "output_type": "stream",
     "text": [
      "int64\n",
      "\n",
      "[11 12]\n"
     ]
    }
   ],
   "source": [
    "# you can use this to force floats into integer (using floor function)\n",
    "ex4=np.array([11.1,12.7],dtype=np.int64)\n",
    "print(ex4.dtype)\n",
    "print()\n",
    "print(ex4)"
   ]
  },
  {
   "cell_type": "code",
   "execution_count": 34,
   "id": "9508840a",
   "metadata": {},
   "outputs": [
    {
     "name": "stdout",
     "output_type": "stream",
     "text": [
      "float64\n",
      "\n",
      "[11. 21.]\n"
     ]
    }
   ],
   "source": [
    "# you can use this to force integer into floats if you anticipate\n",
    "# the value may change to floats later\n",
    "ex5=np.array([11,21],dtype=np.float64)\n",
    "print(ex5.dtype)\n",
    "print()\n",
    "print(ex5)"
   ]
  },
  {
   "cell_type": "markdown",
   "id": "19da9008",
   "metadata": {},
   "source": [
    "# Arithmetic Array Operation:\n"
   ]
  },
  {
   "cell_type": "code",
   "execution_count": 35,
   "id": "6305f8be",
   "metadata": {},
   "outputs": [
    {
     "name": "stdout",
     "output_type": "stream",
     "text": [
      "[[111 112]\n",
      " [121 122]]\n",
      "\n",
      "[[211.1 212.1]\n",
      " [221.1 222.1]]\n"
     ]
    },
    {
     "name": "stderr",
     "output_type": "stream",
     "text": [
      "C:\\Users\\LENOVO\\AppData\\Local\\Temp\\ipykernel_9912\\699241481.py:2: DeprecationWarning: `np.int` is a deprecated alias for the builtin `int`. To silence this warning, use `int` by itself. Doing this will not modify any behavior and is safe. When replacing `np.int`, you may wish to use e.g. `np.int64` or `np.int32` to specify the precision. If you wish to review your current use, check the release note link for additional information.\n",
      "Deprecated in NumPy 1.20; for more details and guidance: https://numpy.org/devdocs/release/1.20.0-notes.html#deprecations\n",
      "  x=np.array([[111,112],[121,122]],dtype=np.int)\n"
     ]
    }
   ],
   "source": [
    "import numpy as np\n",
    "x=np.array([[111,112],[121,122]],dtype=np.int)\n",
    "y=np.array([[211.1,212.1],[221.1,222.1]],dtype=np.float64)\n",
    "\n",
    "print(x)\n",
    "print()\n",
    "print(y)"
   ]
  },
  {
   "cell_type": "code",
   "execution_count": 36,
   "id": "741d597f",
   "metadata": {},
   "outputs": [
    {
     "name": "stdout",
     "output_type": "stream",
     "text": [
      "[[322.1 324.1]\n",
      " [342.1 344.1]]\n",
      "\n",
      "[[322.1 324.1]\n",
      " [342.1 344.1]]\n"
     ]
    }
   ],
   "source": [
    "# add\n",
    "print(x+y) # the plus sign work\n",
    "print()\n",
    "print(np.add(x,y))  # so does the numpy function \"add\"    "
   ]
  },
  {
   "cell_type": "code",
   "execution_count": 37,
   "id": "0f38cd1e",
   "metadata": {},
   "outputs": [
    {
     "name": "stdout",
     "output_type": "stream",
     "text": [
      "[[23432.1 23755.2]\n",
      " [26753.1 27096.2]]\n",
      "\n",
      "[[23432.1 23755.2]\n",
      " [26753.1 27096.2]]\n"
     ]
    }
   ],
   "source": [
    "# multiply \n",
    "print(x*y)\n",
    "print()\n",
    "print(np.multiply(x,y))"
   ]
  },
  {
   "cell_type": "code",
   "execution_count": 38,
   "id": "280b61f2",
   "metadata": {},
   "outputs": [
    {
     "name": "stdout",
     "output_type": "stream",
     "text": [
      "[[-100.1 -100.1]\n",
      " [-100.1 -100.1]]\n",
      "\n",
      "[[-100.1 -100.1]\n",
      " [-100.1 -100.1]]\n"
     ]
    }
   ],
   "source": [
    "# subtract \n",
    "print(x-y)\n",
    "print()\n",
    "print(np.subtract(x,y))"
   ]
  },
  {
   "cell_type": "code",
   "execution_count": 39,
   "id": "e7a5249f",
   "metadata": {},
   "outputs": [
    {
     "name": "stdout",
     "output_type": "stream",
     "text": [
      "[[0.52581715 0.52805281]\n",
      " [0.54726368 0.54930212]]\n",
      "\n",
      "[[0.52581715 0.52805281]\n",
      " [0.54726368 0.54930212]]\n"
     ]
    }
   ],
   "source": [
    "# divide\n",
    "print(x/y)\n",
    "print()\n",
    "print(np.divide(x,y))"
   ]
  },
  {
   "cell_type": "code",
   "execution_count": 40,
   "id": "a1a2699d",
   "metadata": {},
   "outputs": [
    {
     "name": "stdout",
     "output_type": "stream",
     "text": [
      "[[10.53565375 10.58300524]\n",
      " [11.         11.04536102]]\n"
     ]
    }
   ],
   "source": [
    "# square root \n",
    "print(np.sqrt(x))"
   ]
  },
  {
   "cell_type": "code",
   "execution_count": 41,
   "id": "70222f5b",
   "metadata": {},
   "outputs": [
    {
     "name": "stdout",
     "output_type": "stream",
     "text": [
      "[[1.60948707e+48 4.37503945e+48]\n",
      " [3.54513118e+52 9.63666567e+52]]\n"
     ]
    }
   ],
   "source": [
    "# expoment (e ** x)\n",
    "print(np.exp(x))"
   ]
  },
  {
   "cell_type": "markdown",
   "id": "3eb87473",
   "metadata": {},
   "source": [
    "# Set Operation:"
   ]
  },
  {
   "cell_type": "markdown",
   "id": "5f15f8d8",
   "metadata": {},
   "source": [
    "# Basic Statistical Operation:"
   ]
  },
  {
   "cell_type": "code",
   "execution_count": 42,
   "id": "1ea89390",
   "metadata": {},
   "outputs": [
    {
     "name": "stdout",
     "output_type": "stream",
     "text": [
      "[[  4.98805835   9.53418957   4.01906148  -3.45220186  -9.9583569 ]\n",
      " [-17.57735258  -4.55666018   8.61678583  12.87394155  -9.08852839]]\n"
     ]
    }
   ],
   "source": [
    "# setup a random 2x5 matrix\n",
    "arr= 10 * np.random.randn(2,5) # random.random or random.randn or random.randint\n",
    "print(arr)"
   ]
  },
  {
   "cell_type": "code",
   "execution_count": 43,
   "id": "f61263a4",
   "metadata": {},
   "outputs": [
    {
     "name": "stdout",
     "output_type": "stream",
     "text": [
      "-0.46010631262863344\n"
     ]
    }
   ],
   "source": [
    "# compute the mean for all element \n",
    "print(arr.mean())"
   ]
  },
  {
   "cell_type": "code",
   "execution_count": 44,
   "id": "c490c120",
   "metadata": {},
   "outputs": [
    {
     "name": "stdout",
     "output_type": "stream",
     "text": [
      "[ 1.02615013 -1.94636276]\n"
     ]
    }
   ],
   "source": [
    "# compute the mean by row \n",
    "print(arr.mean(axis=1))"
   ]
  },
  {
   "cell_type": "code",
   "execution_count": 45,
   "id": "3b5e2579",
   "metadata": {},
   "outputs": [
    {
     "name": "stdout",
     "output_type": "stream",
     "text": [
      "[-6.29464712  2.4887647   6.31792365  4.71086985 -9.52344264]\n"
     ]
    }
   ],
   "source": [
    "# compute the mean by row\n",
    "print(arr.mean(axis=0))"
   ]
  },
  {
   "cell_type": "code",
   "execution_count": 46,
   "id": "3088b2f9",
   "metadata": {},
   "outputs": [
    {
     "name": "stdout",
     "output_type": "stream",
     "text": [
      "-4.601063126286334\n"
     ]
    }
   ],
   "source": [
    "# sum all the element \n",
    "print(arr.sum())"
   ]
  },
  {
   "cell_type": "code",
   "execution_count": 47,
   "id": "85e48aa0",
   "metadata": {},
   "outputs": [
    {
     "name": "stdout",
     "output_type": "stream",
     "text": [
      "[ 4.01906148 -4.55666018]\n"
     ]
    }
   ],
   "source": [
    "# compute the medians \n",
    "print(np.median(arr,axis=1))  # by row 1st and 2nd also "
   ]
  },
  {
   "cell_type": "markdown",
   "id": "f590c797",
   "metadata": {},
   "source": [
    "# Sorting:"
   ]
  },
  {
   "cell_type": "code",
   "execution_count": 48,
   "id": "bc0e09c9",
   "metadata": {},
   "outputs": [
    {
     "name": "stdout",
     "output_type": "stream",
     "text": [
      "[-0.73444658  0.98661969  0.78853598  0.01937322 -0.5590176   0.77053498\n",
      "  1.20670414 -1.08010122  0.1527476  -0.73096095]\n"
     ]
    }
   ],
   "source": [
    "# create a 10 element array of random \n",
    "unsorted=np. random.randn(10)\n",
    "\n",
    "print(unsorted)"
   ]
  },
  {
   "cell_type": "code",
   "execution_count": 49,
   "id": "8a5c9280",
   "metadata": {},
   "outputs": [
    {
     "name": "stdout",
     "output_type": "stream",
     "text": [
      "[-1.08010122 -0.73444658 -0.73096095 -0.5590176   0.01937322  0.1527476\n",
      "  0.77053498  0.78853598  0.98661969  1.20670414]\n",
      "\n",
      "[-0.73444658  0.98661969  0.78853598  0.01937322 -0.5590176   0.77053498\n",
      "  1.20670414 -1.08010122  0.1527476  -0.73096095]\n"
     ]
    }
   ],
   "source": [
    "# create copy and sort \n",
    "sorted= np.array(unsorted)\n",
    "sorted.sort()  # it will arrange value in ascending order i.e sorting \n",
    "\n",
    "\n",
    "print(sorted)\n",
    "print()\n",
    "print(unsorted)"
   ]
  },
  {
   "cell_type": "code",
   "execution_count": 50,
   "id": "b4eda975",
   "metadata": {},
   "outputs": [
    {
     "name": "stdout",
     "output_type": "stream",
     "text": [
      "[-1.08010122 -0.73444658 -0.73096095 -0.5590176   0.01937322  0.1527476\n",
      "  0.77053498  0.78853598  0.98661969  1.20670414]\n"
     ]
    }
   ],
   "source": [
    "# inplace sorting \n",
    "unsorted.sort()\n",
    "print(unsorted)"
   ]
  },
  {
   "cell_type": "markdown",
   "id": "1d9a7f74",
   "metadata": {},
   "source": [
    "# Finding Unique element:\n"
   ]
  },
  {
   "cell_type": "code",
   "execution_count": 51,
   "id": "5a1a97d4",
   "metadata": {},
   "outputs": [
    {
     "name": "stdout",
     "output_type": "stream",
     "text": [
      "[1 2 4]\n"
     ]
    }
   ],
   "source": [
    "import numpy as np\n",
    "array = np.array([1,2,1,4,2,1,4,2])\n",
    "# print(array.unique())\n",
    "print(np.unique(array))"
   ]
  },
  {
   "cell_type": "markdown",
   "id": "975f63eb",
   "metadata": {},
   "source": [
    "Set Operation with np.array data type:"
   ]
  },
  {
   "cell_type": "code",
   "execution_count": 52,
   "id": "62bfcd95",
   "metadata": {},
   "outputs": [
    {
     "name": "stdout",
     "output_type": "stream",
     "text": [
      "['desk' 'chair' 'bulb'] ['lamp' 'bulb' 'chair']\n"
     ]
    }
   ],
   "source": [
    "s1=np.array(['desk','chair','bulb'])\n",
    "s2=np.array(['lamp','bulb','chair'])\n",
    "print(s1,s2)"
   ]
  },
  {
   "cell_type": "code",
   "execution_count": 54,
   "id": "1582192c",
   "metadata": {},
   "outputs": [
    {
     "name": "stdout",
     "output_type": "stream",
     "text": [
      "['bulb' 'chair']\n"
     ]
    }
   ],
   "source": [
    "print(np.intersect1d(s1,s2))   # common values between s1 and s2"
   ]
  },
  {
   "cell_type": "code",
   "execution_count": 55,
   "id": "9251ca17",
   "metadata": {},
   "outputs": [
    {
     "name": "stdout",
     "output_type": "stream",
     "text": [
      "['bulb' 'chair' 'desk' 'lamp']\n"
     ]
    }
   ],
   "source": [
    "print(np.union1d(s1,s2))  # common and uncommon values between s1 and s2"
   ]
  },
  {
   "cell_type": "code",
   "execution_count": 56,
   "id": "4dcac526",
   "metadata": {},
   "outputs": [
    {
     "name": "stdout",
     "output_type": "stream",
     "text": [
      "['desk']\n"
     ]
    }
   ],
   "source": [
    "print(np.setdiff1d(s1,s2))  # element in s1 that are not in s2 "
   ]
  },
  {
   "cell_type": "code",
   "execution_count": 57,
   "id": "9a428d4d",
   "metadata": {},
   "outputs": [
    {
     "name": "stdout",
     "output_type": "stream",
     "text": [
      "[False  True  True]\n"
     ]
    }
   ],
   "source": [
    "print(np.in1d(s1,s2))   # which element of s1 is also in s2"
   ]
  },
  {
   "cell_type": "markdown",
   "id": "daae74bb",
   "metadata": {},
   "source": [
    "# Broadcating:"
   ]
  },
  {
   "cell_type": "code",
   "execution_count": 58,
   "id": "c9a03337",
   "metadata": {},
   "outputs": [
    {
     "name": "stdout",
     "output_type": "stream",
     "text": [
      "[[0. 0. 0.]\n",
      " [0. 0. 0.]\n",
      " [0. 0. 0.]\n",
      " [0. 0. 0.]]\n"
     ]
    }
   ],
   "source": [
    "import numpy as np\n",
    "  \n",
    "start=np.zeros((4,3))\n",
    "print(start)"
   ]
  },
  {
   "cell_type": "code",
   "execution_count": 60,
   "id": "b2906a30",
   "metadata": {},
   "outputs": [
    {
     "name": "stdout",
     "output_type": "stream",
     "text": [
      "[1 0 1]\n"
     ]
    }
   ],
   "source": [
    "# create a rank1 ndarray with 3 value \n",
    "add_rows= np.array([1,0,1])\n",
    "print(add_rows)"
   ]
  },
  {
   "cell_type": "code",
   "execution_count": 62,
   "id": "77e7b72e",
   "metadata": {},
   "outputs": [
    {
     "name": "stdout",
     "output_type": "stream",
     "text": [
      "[[1. 0. 1.]\n",
      " [1. 0. 1.]\n",
      " [1. 0. 1.]\n",
      " [1. 0. 1.]]\n"
     ]
    }
   ],
   "source": [
    "y=start+add_rows  # add to each row of 'start' using broadcasting \n",
    "print(y)"
   ]
  },
  {
   "cell_type": "code",
   "execution_count": 63,
   "id": "0cf22b60",
   "metadata": {},
   "outputs": [
    {
     "name": "stdout",
     "output_type": "stream",
     "text": [
      "[[0 1 2 3]]\n",
      "[[0]\n",
      " [1]\n",
      " [2]\n",
      " [3]]\n"
     ]
    }
   ],
   "source": [
    "# create an ndarray which is 4x1 to broadcast across columns\n",
    "add_cols=np.array([[0,1,2,3]])  # print(add_cols)\n",
    "print(add_cols)\n",
    "add_cols=add_cols.T   # transpose: convert row into column and vice versa\n",
    "\n",
    "print(add_cols)"
   ]
  },
  {
   "cell_type": "code",
   "execution_count": 64,
   "id": "c7446e9f",
   "metadata": {},
   "outputs": [
    {
     "name": "stdout",
     "output_type": "stream",
     "text": [
      "[[0. 0. 0.]\n",
      " [1. 1. 1.]\n",
      " [2. 2. 2.]\n",
      " [3. 3. 3.]]\n"
     ]
    }
   ],
   "source": [
    "# add to each columns of 'start' using broadcasting \n",
    "y=start+add_cols\n",
    "print(y)"
   ]
  },
  {
   "cell_type": "code",
   "execution_count": 66,
   "id": "c49f192b",
   "metadata": {},
   "outputs": [
    {
     "name": "stdout",
     "output_type": "stream",
     "text": [
      "[[1. 1. 1.]\n",
      " [1. 1. 1.]\n",
      " [1. 1. 1.]\n",
      " [1. 1. 1.]]\n"
     ]
    }
   ],
   "source": [
    "# this will just broadcast in both dimension \n",
    "add_scaler=np.array([1])\n",
    "print(start+add_scaler)"
   ]
  },
  {
   "cell_type": "markdown",
   "id": "0f6eefc3",
   "metadata": {},
   "source": [
    "Example from the slides:"
   ]
  },
  {
   "cell_type": "code",
   "execution_count": 68,
   "id": "18a9278a",
   "metadata": {},
   "outputs": [
    {
     "name": "stdout",
     "output_type": "stream",
     "text": [
      "[[ 1  2  3  4]\n",
      " [ 5  6  7  8]\n",
      " [ 9 10 11 12]]\n"
     ]
    }
   ],
   "source": [
    "# create our 3x4 matrix\n",
    "arrA=np.array([[1,2,3,4],[5,6,7,8],[9,10,11,12]])\n",
    "print(arrA)"
   ]
  },
  {
   "cell_type": "code",
   "execution_count": 69,
   "id": "6ef4fe37",
   "metadata": {},
   "outputs": [
    {
     "name": "stdout",
     "output_type": "stream",
     "text": [
      "[0, 1, 0, 2]\n"
     ]
    }
   ],
   "source": [
    "# create our 4x1 array \n",
    "arrB=[0,1,0,2]\n",
    "print(arrB)"
   ]
  },
  {
   "cell_type": "code",
   "execution_count": 70,
   "id": "51e63399",
   "metadata": {},
   "outputs": [
    {
     "name": "stdout",
     "output_type": "stream",
     "text": [
      "[[ 1  3  3  6]\n",
      " [ 5  7  7 10]\n",
      " [ 9 11 11 14]]\n"
     ]
    }
   ],
   "source": [
    "# add the two together using broadcasting \n",
    "print(arrA+arrB)"
   ]
  },
  {
   "cell_type": "markdown",
   "id": "96289455",
   "metadata": {},
   "source": [
    "# Binary format:"
   ]
  },
  {
   "cell_type": "code",
   "execution_count": 71,
   "id": "fd1a8174",
   "metadata": {},
   "outputs": [],
   "source": [
    "import numpy as np\n",
    "x=np.array([23.23,24.24])\n"
   ]
  },
  {
   "cell_type": "code",
   "execution_count": 72,
   "id": "5b9d0e25",
   "metadata": {},
   "outputs": [],
   "source": [
    "np.save('an_array',x)  # save the values in x to an_array"
   ]
  },
  {
   "cell_type": "code",
   "execution_count": 74,
   "id": "77308288",
   "metadata": {},
   "outputs": [
    {
     "data": {
      "text/plain": [
       "array([23.23, 24.24])"
      ]
     },
     "execution_count": 74,
     "metadata": {},
     "output_type": "execute_result"
    }
   ],
   "source": [
    "np.load('an_array.npy')"
   ]
  },
  {
   "cell_type": "markdown",
   "id": "cf02b9ad",
   "metadata": {},
   "source": [
    "# Text format:"
   ]
  },
  {
   "cell_type": "code",
   "execution_count": 76,
   "id": "f37e3c88",
   "metadata": {},
   "outputs": [],
   "source": [
    "np.savetxt('array.txt',X=x,delimiter=',')"
   ]
  },
  {
   "cell_type": "code",
   "execution_count": 79,
   "id": "8d662d34",
   "metadata": {},
   "outputs": [
    {
     "name": "stderr",
     "output_type": "stream",
     "text": [
      "'cat' is not recognized as an internal or external command,\n",
      "operable program or batch file.\n"
     ]
    }
   ],
   "source": [
    "## for windows replace \"cat\" with \"type\"\n",
    "!cat array.txt"
   ]
  },
  {
   "cell_type": "code",
   "execution_count": 80,
   "id": "99400bf7",
   "metadata": {},
   "outputs": [
    {
     "data": {
      "text/plain": [
       "array([23.23, 24.24])"
      ]
     },
     "execution_count": 80,
     "metadata": {},
     "output_type": "execute_result"
    }
   ],
   "source": [
    "np.savetxt('array.txt',X=x,delimiter=',')  # savetxt function will store your file \n",
    "np.loadtxt('array.txt',delimiter=',')  # delimeter and sep are some which is seperate\n"
   ]
  },
  {
   "cell_type": "markdown",
   "id": "c9e85a9e",
   "metadata": {},
   "source": [
    "# Additional common ndarray \n",
    "Opration"
   ]
  },
  {
   "cell_type": "raw",
   "id": "eb9f4c03",
   "metadata": {},
   "source": [
    "Dot product on Matrices and Inner product on vectors:"
   ]
  },
  {
   "cell_type": "code",
   "execution_count": 81,
   "id": "be4e5fa0",
   "metadata": {},
   "outputs": [
    {
     "name": "stdout",
     "output_type": "stream",
     "text": [
      "[[1 1]\n",
      " [1 1]]\n",
      "\n",
      "[[2 2]\n",
      " [2 2]]\n",
      "\n",
      "[[4 4]\n",
      " [4 4]]\n",
      "\n",
      "[[4 4]\n",
      " [4 4]]\n"
     ]
    }
   ],
   "source": [
    "# determine the dot product of two matrices\n",
    "x2d=np.array([[1,1],[1,1]])\n",
    "y2d=np.array([[2,2],[2,2]])\n",
    "print(x2d)\n",
    "print()\n",
    "print(y2d)\n",
    "print()\n",
    "print(x2d.dot(y2d))\n",
    "print()\n",
    "print(np.dot(x2d,y2d))"
   ]
  },
  {
   "cell_type": "code",
   "execution_count": 84,
   "id": "7d9125cc",
   "metadata": {},
   "outputs": [
    {
     "name": "stdout",
     "output_type": "stream",
     "text": [
      "180\n",
      "\n",
      "180\n"
     ]
    }
   ],
   "source": [
    "# determine the inner product of two vectors\n",
    "a1d=np.array([9,9])\n",
    "b1d=np.array([10,10])\n",
    "\n",
    "print(a1d.dot(b1d))\n",
    "\n",
    "print()\n",
    "\n",
    "print(np.dot(a1d,b1d))"
   ]
  },
  {
   "cell_type": "code",
   "execution_count": 85,
   "id": "bd017472",
   "metadata": {},
   "outputs": [
    {
     "name": "stdout",
     "output_type": "stream",
     "text": [
      "[18 18]\n",
      "\n",
      "[18 18]\n"
     ]
    }
   ],
   "source": [
    "# dot produce on an array and vector\n",
    "print(x2d.dot(a1d))  # ([9,9]) ,([1,1],[1,1])  [1*9 + 1*9,1*9 ] = [18,18]\n",
    "print()\n",
    "print(np.dot(x2d,a1d))"
   ]
  },
  {
   "cell_type": "markdown",
   "id": "4ff77dd6",
   "metadata": {},
   "source": [
    "# Sum: "
   ]
  },
  {
   "cell_type": "code",
   "execution_count": 86,
   "id": "9b400de0",
   "metadata": {},
   "outputs": [
    {
     "name": "stdout",
     "output_type": "stream",
     "text": [
      "66\n"
     ]
    }
   ],
   "source": [
    "# sum element in the array \n",
    "ex1=np.array([[11,12],[21,22]])\n",
    "\n",
    "print(np.sum(ex1))  # add will members "
   ]
  },
  {
   "cell_type": "code",
   "execution_count": 87,
   "id": "46bc8563",
   "metadata": {},
   "outputs": [
    {
     "name": "stdout",
     "output_type": "stream",
     "text": [
      "[32 34]\n"
     ]
    }
   ],
   "source": [
    "print(np.sum(ex1 , axis=0))  # columnwise sum"
   ]
  },
  {
   "cell_type": "code",
   "execution_count": 88,
   "id": "0187a618",
   "metadata": {},
   "outputs": [
    {
     "name": "stdout",
     "output_type": "stream",
     "text": [
      "[23 43]\n"
     ]
    }
   ],
   "source": [
    "print(np.sum(ex1 , axis=1)) # row wise sum"
   ]
  },
  {
   "cell_type": "markdown",
   "id": "085093b7",
   "metadata": {},
   "source": [
    "# Element- wise Functions:"
   ]
  },
  {
   "cell_type": "markdown",
   "id": "44e78561",
   "metadata": {},
   "source": [
    "for example, let's compare two array values to get the maximum of each"
   ]
  },
  {
   "cell_type": "code",
   "execution_count": 89,
   "id": "47f30082",
   "metadata": {},
   "outputs": [
    {
     "data": {
      "text/plain": [
       "array([-1.05436296,  0.89855193, -0.10233342,  0.40960144,  0.13689652,\n",
       "       -0.56919979,  0.60704174, -0.67659457])"
      ]
     },
     "execution_count": 89,
     "metadata": {},
     "output_type": "execute_result"
    }
   ],
   "source": [
    "#  random array \n",
    "x= np. random.randn(8)\n",
    "x"
   ]
  },
  {
   "cell_type": "code",
   "execution_count": 90,
   "id": "6b79f840",
   "metadata": {},
   "outputs": [
    {
     "data": {
      "text/plain": [
       "array([-0.06052082, -0.88955962, -0.97427889, -1.96358224,  0.84538903,\n",
       "       -0.00451379, -0.71571524, -0.40536899])"
      ]
     },
     "execution_count": 90,
     "metadata": {},
     "output_type": "execute_result"
    }
   ],
   "source": [
    "# another random array \n",
    "y=np.random.randn(8)\n",
    "\n",
    "y"
   ]
  },
  {
   "cell_type": "code",
   "execution_count": 91,
   "id": "006eac91",
   "metadata": {},
   "outputs": [
    {
     "data": {
      "text/plain": [
       "array([[0.50450942, 0.62265925, 1.33261567],\n",
       "       [1.10426828, 0.39809583, 0.4948259 ]])"
      ]
     },
     "execution_count": 91,
     "metadata": {},
     "output_type": "execute_result"
    }
   ],
   "source": [
    "# return element wise maximum between two arrays \n",
    "import numpy as np\n",
    "x=np.random.randn(2,3)\n",
    "y=np.random.randn(2,3)\n",
    "np.maximum(x,y)"
   ]
  },
  {
   "cell_type": "markdown",
   "id": "edfd7885",
   "metadata": {},
   "source": [
    "# Reshaping array:"
   ]
  },
  {
   "cell_type": "code",
   "execution_count": 93,
   "id": "a4db8dd0",
   "metadata": {},
   "outputs": [
    {
     "name": "stdout",
     "output_type": "stream",
     "text": [
      "[ 0  1  2  3  4  5  6  7  8  9 10 11 12 13 14 15 16 17 18 19]\n"
     ]
    }
   ],
   "source": [
    "# grab values from 0 through 19 in an array\n",
    "arr= np.arange(20)\n",
    "print(arr)"
   ]
  },
  {
   "cell_type": "code",
   "execution_count": 94,
   "id": "d075f04d",
   "metadata": {},
   "outputs": [
    {
     "data": {
      "text/plain": [
       "array([[ 0,  1,  2,  3,  4],\n",
       "       [ 5,  6,  7,  8,  9],\n",
       "       [10, 11, 12, 13, 14],\n",
       "       [15, 16, 17, 18, 19]])"
      ]
     },
     "execution_count": 94,
     "metadata": {},
     "output_type": "execute_result"
    }
   ],
   "source": [
    "# reshape to be a 4x5 matrix\n",
    "arr.reshape(4,5)  # 5,4\n",
    "\n"
   ]
  },
  {
   "cell_type": "markdown",
   "id": "6997394e",
   "metadata": {},
   "source": [
    "# Transpose:"
   ]
  },
  {
   "cell_type": "code",
   "execution_count": 96,
   "id": "8f11109f",
   "metadata": {},
   "outputs": [
    {
     "data": {
      "text/plain": [
       "array([[11, 21],\n",
       "       [12, 22]])"
      ]
     },
     "execution_count": 96,
     "metadata": {},
     "output_type": "execute_result"
    }
   ],
   "source": [
    "# transpose\n",
    "ex1 = np.array([[11,12],[21,22]])\n",
    "\n",
    "ex1.T"
   ]
  },
  {
   "cell_type": "markdown",
   "id": "43b39a8c",
   "metadata": {},
   "source": [
    "# Indexing using where():"
   ]
  },
  {
   "cell_type": "code",
   "execution_count": 98,
   "id": "0dc3b0f0",
   "metadata": {},
   "outputs": [],
   "source": [
    "x_1=np.array([1,2,3,4,5])\n",
    "\n",
    "y_1=np.array([11,22,33,44,55])\n",
    "# where we have true in filter it will print x_1 value and for false y_1 value\n",
    "# this is the working of where function\n",
    "filter=np.array([True,False,True,False,True])"
   ]
  },
  {
   "cell_type": "code",
   "execution_count": 99,
   "id": "c408084e",
   "metadata": {},
   "outputs": [
    {
     "name": "stdout",
     "output_type": "stream",
     "text": [
      "[ 1 22  3 44  5]\n"
     ]
    }
   ],
   "source": [
    "out=np.where(filter,x_1,y_1)\n",
    "print(out)"
   ]
  },
  {
   "cell_type": "code",
   "execution_count": 100,
   "id": "98d79ce2",
   "metadata": {},
   "outputs": [
    {
     "data": {
      "text/plain": [
       "array([[-2.09584864, -1.14771566,  1.24154517,  1.4758066 ,  0.73595136],\n",
       "       [-1.78298587,  0.26778632, -0.20232429,  0.21999707, -1.33772088],\n",
       "       [-0.63034087, -0.21868324,  0.43003254,  1.16776586,  0.99746216],\n",
       "       [-2.78099616,  1.04421962, -0.10568469,  0.12748341, -0.25279322],\n",
       "       [-2.28558116, -0.4845289 , -0.31083333, -0.99828298, -2.31213678]])"
      ]
     },
     "execution_count": 100,
     "metadata": {},
     "output_type": "execute_result"
    }
   ],
   "source": [
    "mat=np.random.randn(5,5)\n",
    "mat"
   ]
  },
  {
   "cell_type": "code",
   "execution_count": 101,
   "id": "98011fe7",
   "metadata": {},
   "outputs": [
    {
     "data": {
      "text/plain": [
       "array([[  -1,   -1, 1000, 1000, 1000],\n",
       "       [  -1,   -1,   -1,   -1,   -1],\n",
       "       [  -1,   -1,   -1, 1000, 1000],\n",
       "       [  -1, 1000,   -1,   -1,   -1],\n",
       "       [  -1,   -1,   -1,   -1,   -1]])"
      ]
     },
     "execution_count": 101,
     "metadata": {},
     "output_type": "execute_result"
    }
   ],
   "source": [
    "np.where(mat>0.5,1000,-1)"
   ]
  },
  {
   "cell_type": "code",
   "execution_count": 102,
   "id": "bb5cc8a9",
   "metadata": {},
   "outputs": [
    {
     "data": {
      "text/plain": [
       "'\\nif mat>0.5:\\n    replace(1000)\\nelse:\\n    replace(-1)'"
      ]
     },
     "execution_count": 102,
     "metadata": {},
     "output_type": "execute_result"
    }
   ],
   "source": [
    "'''\n",
    "if mat>0.5:\n",
    "    replace(1000)\n",
    "else:\n",
    "    replace(-1)'''"
   ]
  },
  {
   "cell_type": "markdown",
   "id": "06e44e36",
   "metadata": {},
   "source": [
    "# \" any\" or \"all\" conditional:"
   ]
  },
  {
   "cell_type": "code",
   "execution_count": 105,
   "id": "cb3479ec",
   "metadata": {},
   "outputs": [],
   "source": [
    "arr_bools=np.array([True,False,True,True,False])"
   ]
  },
  {
   "cell_type": "code",
   "execution_count": 106,
   "id": "50d46486",
   "metadata": {},
   "outputs": [
    {
     "data": {
      "text/plain": [
       "True"
      ]
     },
     "execution_count": 106,
     "metadata": {},
     "output_type": "execute_result"
    }
   ],
   "source": [
    "arr_bools.any() # is any values True"
   ]
  },
  {
   "cell_type": "code",
   "execution_count": 107,
   "id": "cfe53621",
   "metadata": {},
   "outputs": [
    {
     "data": {
      "text/plain": [
       "False"
      ]
     },
     "execution_count": 107,
     "metadata": {},
     "output_type": "execute_result"
    }
   ],
   "source": [
    "arr_bools.all() # are all values True "
   ]
  },
  {
   "cell_type": "markdown",
   "id": "ad11cb1a",
   "metadata": {},
   "source": [
    "# Random Number Generation:"
   ]
  },
  {
   "cell_type": "code",
   "execution_count": 108,
   "id": "ad1f630e",
   "metadata": {},
   "outputs": [
    {
     "name": "stdout",
     "output_type": "stream",
     "text": [
      "[[ 0.90250422  0.6302748  -0.18773282 -0.34407589 -1.89739849]]\n"
     ]
    }
   ],
   "source": [
    "import numpy as np\n",
    "y=np.random.normal(size=(1,5))\n",
    "print(y)"
   ]
  },
  {
   "cell_type": "code",
   "execution_count": 111,
   "id": "cd397b3b",
   "metadata": {},
   "outputs": [
    {
     "name": "stdout",
     "output_type": "stream",
     "text": [
      "[16 13 29 13]\n"
     ]
    }
   ],
   "source": [
    "z=np.random.randint(low=2,high=50,size=4)  # int integer values\n",
    "print(z)   # low for lower limits and high for higher limits"
   ]
  },
  {
   "cell_type": "code",
   "execution_count": 112,
   "id": "84d6c2e8",
   "metadata": {},
   "outputs": [
    {
     "data": {
      "text/plain": [
       "array([29, 16, 13, 13])"
      ]
     },
     "execution_count": 112,
     "metadata": {},
     "output_type": "execute_result"
    }
   ],
   "source": [
    "np.random.permutation(z)  # return a new ordering of element in z"
   ]
  },
  {
   "cell_type": "code",
   "execution_count": 113,
   "id": "35784c7f",
   "metadata": {},
   "outputs": [
    {
     "data": {
      "text/plain": [
       "array([0.8422847 , 0.53597298, 0.63026877, 0.04530309])"
      ]
     },
     "execution_count": 113,
     "metadata": {},
     "output_type": "execute_result"
    }
   ],
   "source": [
    "np.random.uniform(size=4) # uniform distribution"
   ]
  },
  {
   "cell_type": "code",
   "execution_count": 114,
   "id": "3d328f20",
   "metadata": {},
   "outputs": [
    {
     "data": {
      "text/plain": [
       "array([-0.69283578, -1.07517308, -0.74392621,  0.5710742 ])"
      ]
     },
     "execution_count": 114,
     "metadata": {},
     "output_type": "execute_result"
    }
   ],
   "source": [
    "np.random.normal(size=4) #normal distributionsize=4"
   ]
  },
  {
   "cell_type": "markdown",
   "id": "1e2c9585",
   "metadata": {},
   "source": [
    "# Merging data sets:"
   ]
  },
  {
   "cell_type": "code",
   "execution_count": 115,
   "id": "f15ab386",
   "metadata": {},
   "outputs": [
    {
     "name": "stdout",
     "output_type": "stream",
     "text": [
      "[[40 26]\n",
      " [24 13]]\n",
      "\n",
      "[[36 31]\n",
      " [44  6]]\n"
     ]
    }
   ],
   "source": [
    "k = np.random.randint (low=2,high=50,size=(2,2))\n",
    "print(k)\n",
    "\n",
    "print()\n",
    "m=np.random.randint(low=2,high=50,size=(2,2))\n",
    "print(m)"
   ]
  },
  {
   "cell_type": "code",
   "execution_count": 116,
   "id": "9751f0ba",
   "metadata": {},
   "outputs": [
    {
     "data": {
      "text/plain": [
       "array([[40, 26],\n",
       "       [24, 13],\n",
       "       [36, 31],\n",
       "       [44,  6]])"
      ]
     },
     "execution_count": 116,
     "metadata": {},
     "output_type": "execute_result"
    }
   ],
   "source": [
    "np.vstack((k,m))  # jion vertivally"
   ]
  },
  {
   "cell_type": "code",
   "execution_count": 117,
   "id": "c688ffb3",
   "metadata": {},
   "outputs": [
    {
     "data": {
      "text/plain": [
       "array([[40, 26, 36, 31],\n",
       "       [24, 13, 44,  6]])"
      ]
     },
     "execution_count": 117,
     "metadata": {},
     "output_type": "execute_result"
    }
   ],
   "source": [
    "np.hstack((k,m))  # join horizontally"
   ]
  },
  {
   "cell_type": "code",
   "execution_count": 118,
   "id": "f0d7248a",
   "metadata": {},
   "outputs": [
    {
     "data": {
      "text/plain": [
       "array([[40, 26, 36, 31],\n",
       "       [24, 13, 44,  6]])"
      ]
     },
     "execution_count": 118,
     "metadata": {},
     "output_type": "execute_result"
    }
   ],
   "source": [
    "np.concatenate([k,m],axis=1)"
   ]
  },
  {
   "cell_type": "code",
   "execution_count": null,
   "id": "b910cd39",
   "metadata": {},
   "outputs": [],
   "source": []
  }
 ],
 "metadata": {
  "kernelspec": {
   "display_name": "Python 3 (ipykernel)",
   "language": "python",
   "name": "python3"
  },
  "language_info": {
   "codemirror_mode": {
    "name": "ipython",
    "version": 3
   },
   "file_extension": ".py",
   "mimetype": "text/x-python",
   "name": "python",
   "nbconvert_exporter": "python",
   "pygments_lexer": "ipython3",
   "version": "3.9.13"
  }
 },
 "nbformat": 4,
 "nbformat_minor": 5
}
